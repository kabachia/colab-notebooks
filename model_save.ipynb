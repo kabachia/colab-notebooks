{
  "nbformat": 4,
  "nbformat_minor": 0,
  "metadata": {
    "colab": {
      "provenance": [],
      "authorship_tag": "ABX9TyPXKPcxi5iQzdKZU9NObA+s",
      "include_colab_link": true
    },
    "kernelspec": {
      "name": "python3",
      "display_name": "Python 3"
    },
    "language_info": {
      "name": "python"
    }
  },
  "cells": [
    {
      "cell_type": "markdown",
      "metadata": {
        "id": "view-in-github",
        "colab_type": "text"
      },
      "source": [
        "<a href=\"https://colab.research.google.com/github/kabachia/colab-notebooks/blob/main/model_save.ipynb\" target=\"_parent\"><img src=\"https://colab.research.google.com/assets/colab-badge.svg\" alt=\"Open In Colab\"/></a>"
      ]
    },
    {
      "cell_type": "code",
      "execution_count": 1,
      "metadata": {
        "id": "5dt1rGZmUFqC"
      },
      "outputs": [],
      "source": [
        "import pandas as pd\n",
        "import numpy as np\n",
        "\n",
        "from sklearn.model_selection import train_test_split\n",
        "from sklearn.model_selection import KFold\n",
        "\n",
        "from sklearn.feature_extraction import DictVectorizer\n",
        "from sklearn.linear_model import LogisticRegression\n",
        "from sklearn.metrics import roc_auc_score"
      ]
    },
    {
      "cell_type": "code",
      "source": [
        "data = 'https://raw.githubusercontent.com/alexeygrigorev/mlbookcamp-code/master/chapter-03-churn-prediction/WA_Fn-UseC_-Telco-Customer-Churn.csv'"
      ],
      "metadata": {
        "id": "qNsrt482V-_a"
      },
      "execution_count": 2,
      "outputs": []
    },
    {
      "cell_type": "code",
      "source": [
        "!wget $data -O telco-data.csv"
      ],
      "metadata": {
        "colab": {
          "base_uri": "https://localhost:8080/"
        },
        "id": "ixfopFdYY2zm",
        "outputId": "d0291d0c-51d3-488d-d18c-7eabcedef5d0"
      },
      "execution_count": 3,
      "outputs": [
        {
          "output_type": "stream",
          "name": "stdout",
          "text": [
            "--2023-10-17 11:27:10--  https://raw.githubusercontent.com/alexeygrigorev/mlbookcamp-code/master/chapter-03-churn-prediction/WA_Fn-UseC_-Telco-Customer-Churn.csv\n",
            "Resolving raw.githubusercontent.com (raw.githubusercontent.com)... 185.199.108.133, 185.199.109.133, 185.199.110.133, ...\n",
            "Connecting to raw.githubusercontent.com (raw.githubusercontent.com)|185.199.108.133|:443... connected.\n",
            "HTTP request sent, awaiting response... 200 OK\n",
            "Length: 977501 (955K) [text/plain]\n",
            "Saving to: ‘telco-data.csv’\n",
            "\n",
            "\rtelco-data.csv        0%[                    ]       0  --.-KB/s               \rtelco-data.csv      100%[===================>] 954.59K  --.-KB/s    in 0.07s   \n",
            "\n",
            "2023-10-17 11:27:11 (14.2 MB/s) - ‘telco-data.csv’ saved [977501/977501]\n",
            "\n"
          ]
        }
      ]
    },
    {
      "cell_type": "code",
      "source": [
        "df = pd.read_csv('telco-data.csv')\n",
        "\n",
        "df.columns = df.columns.str.lower().str.replace(' ','_')\n",
        "\n",
        "categorical_columns = list(df.dtypes[df.dtypes == 'object'].index)\n",
        "\n",
        "for c in categorical_columns:\n",
        "  df[c] = df[c].str.lower().str.replace(' ','_')\n",
        "\n",
        "df.totalcharges = pd.to_numeric(df.totalcharges, errors='coerce')\n",
        "df.totalcharges = df.totalcharges.fillna(0)\n",
        "\n",
        "df.churn = (df.churn == 'yes').astype(int)"
      ],
      "metadata": {
        "id": "pWS2L9fUVz8_"
      },
      "execution_count": 4,
      "outputs": []
    },
    {
      "cell_type": "code",
      "source": [
        "df_full_train, df_test = train_test_split(df, test_size=0.2, random_state=1)"
      ],
      "metadata": {
        "id": "epzpAlWxZ12F"
      },
      "execution_count": 5,
      "outputs": []
    },
    {
      "cell_type": "code",
      "source": [
        "numerical = ['tenure','monthlycharges','totalcharges']\n",
        "\n",
        "categorical = ['gender', 'seniorcitizen', 'partner', 'dependents',\n",
        "        'phoneservice', 'multiplelines', 'internetservice',\n",
        "       'onlinesecurity', 'onlinebackup', 'deviceprotection', 'techsupport',\n",
        "       'streamingtv', 'streamingmovies', 'contract', 'paperlessbilling',\n",
        "       'paymentmethod']"
      ],
      "metadata": {
        "id": "6RsVnofUaBAi"
      },
      "execution_count": 6,
      "outputs": []
    },
    {
      "cell_type": "code",
      "source": [
        "def train(df_train, y_train, C=1.0):\n",
        "  dicts = df_train[categorical + numerical].to_dict(orient='records')\n",
        "\n",
        "  dv = DictVectorizer(sparse=False)\n",
        "  X_train = dv.fit_transform(dicts)\n",
        "\n",
        "  model = LogisticRegression(C=C, max_iter=1000)\n",
        "  model.fit(X_train, y_train)\n",
        "\n",
        "  return dv, model"
      ],
      "metadata": {
        "id": "bJ1Qo9SDai1b"
      },
      "execution_count": 7,
      "outputs": []
    },
    {
      "cell_type": "code",
      "source": [
        "def predict(df, dv, model):\n",
        "  dicts = df[categorical + numerical].to_dict(orient='records')\n",
        "\n",
        "  X = dv.transform(dicts)\n",
        "  y_pred = model.predict_proba(X)[:,1]\n",
        "\n",
        "  return y_pred"
      ],
      "metadata": {
        "id": "FjI646MWbI7u"
      },
      "execution_count": 9,
      "outputs": []
    },
    {
      "cell_type": "code",
      "source": [
        "C = 1.0\n",
        "n_splits = 5"
      ],
      "metadata": {
        "id": "leWAeS00bc3Y"
      },
      "execution_count": 10,
      "outputs": []
    },
    {
      "cell_type": "code",
      "source": [
        "kfold = KFold(n_splits=n_splits, shuffle=True, random_state=1)\n",
        "\n",
        "scores = []\n",
        "\n",
        "for train_idx, val_idx in kfold.split(df_full_train):\n",
        "  df_train = df_full_train.iloc[train_idx]\n",
        "  df_val = df_full_train.iloc[val_idx]\n",
        "\n",
        "  y_train = df_train.churn.values\n",
        "  y_val = df_val.churn.values\n",
        "\n",
        "  dv, model = train(df_train, y_train, C=C)\n",
        "  y_pred = predict(df_val, dv, model)\n",
        "\n",
        "  auc = roc_auc_score(y_val, y_pred)\n",
        "  scores.append(auc)\n",
        "\n",
        "print(f\"C={C} {np.mean(scores):.3f} {np.std(scores):.3f}\")"
      ],
      "metadata": {
        "colab": {
          "base_uri": "https://localhost:8080/"
        },
        "id": "L0n2ReEwbmXg",
        "outputId": "3c524ee1-12a9-4c0d-ffe4-930288efb9d8"
      },
      "execution_count": 11,
      "outputs": [
        {
          "output_type": "stream",
          "name": "stdout",
          "text": [
            "C=1.0 0.841 0.009\n"
          ]
        }
      ]
    },
    {
      "cell_type": "code",
      "source": [
        "scores"
      ],
      "metadata": {
        "colab": {
          "base_uri": "https://localhost:8080/"
        },
        "id": "BgM3Q81IdMhb",
        "outputId": "b683e83f-7596-4402-8177-3d05fd569b11"
      },
      "execution_count": 12,
      "outputs": [
        {
          "output_type": "execute_result",
          "data": {
            "text/plain": [
              "[0.8436663500561263,\n",
              " 0.8455854357038802,\n",
              " 0.8311780052177403,\n",
              " 0.8301724275756219,\n",
              " 0.8526913181261963]"
            ]
          },
          "metadata": {},
          "execution_count": 12
        }
      ]
    },
    {
      "cell_type": "code",
      "source": [
        "dv, model = train(df_full_train, df_full_train.churn.values, C=1.0)\n",
        "y_pred = predict(df_test, dv, model)\n",
        "\n",
        "y_test = df_test.churn.values\n",
        "\n",
        "auc = roc_auc_score(y_test, y_pred)\n",
        "auc"
      ],
      "metadata": {
        "colab": {
          "base_uri": "https://localhost:8080/"
        },
        "id": "9CdEXarSdSRH",
        "outputId": "b0590139-4a9b-4710-c48e-39f5c9356ab7"
      },
      "execution_count": 14,
      "outputs": [
        {
          "output_type": "execute_result",
          "data": {
            "text/plain": [
              "0.8572386167896259"
            ]
          },
          "metadata": {},
          "execution_count": 14
        }
      ]
    },
    {
      "cell_type": "code",
      "source": [
        "import pickle"
      ],
      "metadata": {
        "id": "NXRH7rbAd21p"
      },
      "execution_count": 15,
      "outputs": []
    },
    {
      "cell_type": "code",
      "source": [
        "output_file = f'model_C={C}.bin'\n",
        "output_file"
      ],
      "metadata": {
        "colab": {
          "base_uri": "https://localhost:8080/",
          "height": 35
        },
        "id": "eqQabXV8eQQn",
        "outputId": "4f9b210e-5bbc-41b8-e7b7-4223a9534e52"
      },
      "execution_count": 17,
      "outputs": [
        {
          "output_type": "execute_result",
          "data": {
            "text/plain": [
              "'model_C=1.0.bin'"
            ],
            "application/vnd.google.colaboratory.intrinsic+json": {
              "type": "string"
            }
          },
          "metadata": {},
          "execution_count": 17
        }
      ]
    },
    {
      "cell_type": "code",
      "source": [
        "with open(output_file, 'wb') as f_out:\n",
        "  pickle.dump((dv, model), f_out)"
      ],
      "metadata": {
        "id": "svCVgMH7efK4"
      },
      "execution_count": 18,
      "outputs": []
    },
    {
      "cell_type": "markdown",
      "source": [
        "## Load the model"
      ],
      "metadata": {
        "id": "rXcbCg15frTk"
      }
    },
    {
      "cell_type": "code",
      "source": [
        "import pickle"
      ],
      "metadata": {
        "id": "e0ZFVvxIfu4o"
      },
      "execution_count": 19,
      "outputs": []
    },
    {
      "cell_type": "code",
      "source": [
        "with open(output_file, 'rb') as f_in:\n",
        "  dv, model = pickle.load(f_in)"
      ],
      "metadata": {
        "id": "cQV7AsTufwn3"
      },
      "execution_count": 20,
      "outputs": []
    },
    {
      "cell_type": "code",
      "source": [
        "dv, model"
      ],
      "metadata": {
        "colab": {
          "base_uri": "https://localhost:8080/"
        },
        "id": "KVY82eH3gVTZ",
        "outputId": "debca1eb-9007-46e9-bb3a-14743d5bd297"
      },
      "execution_count": 21,
      "outputs": [
        {
          "output_type": "execute_result",
          "data": {
            "text/plain": [
              "(DictVectorizer(sparse=False), LogisticRegression(max_iter=1000))"
            ]
          },
          "metadata": {},
          "execution_count": 21
        }
      ]
    },
    {
      "cell_type": "code",
      "source": [
        "customer = {\n",
        "    'gender': 'female',\n",
        "    'seniorcitizen': 0,\n",
        "    'partner': 'yes',\n",
        "    'dependents': 'no',\n",
        "    'phoneservice': 'no',\n",
        "    'multiplelines': 'no_phone_service',\n",
        "    'internetservice': 'dsl',\n",
        "    'onlinesecurity': 'no',\n",
        "    'onlinebackup': 'yes',\n",
        "    'deviceprotection': 'no',\n",
        "    'techsupport': 'no',\n",
        "    'streamingtv': 'no',\n",
        "    'streamingmovies': 'no',\n",
        "    'contract': 'month-to-month',\n",
        "    'paperlessbilling': 'yes',\n",
        "    'paymentmethod': 'electronic_check',\n",
        "    'tenure': 1,\n",
        "    'monthlycharges': 29.85,\n",
        "    'totalcharges': 29.85\n",
        "}"
      ],
      "metadata": {
        "id": "OH_XoyOTgXKv"
      },
      "execution_count": 22,
      "outputs": []
    },
    {
      "cell_type": "code",
      "source": [
        "X = dv.transform([customer])\n",
        "X"
      ],
      "metadata": {
        "colab": {
          "base_uri": "https://localhost:8080/"
        },
        "id": "cK0EQGJDi26H",
        "outputId": "bf10c405-a73c-464b-e20f-f4b336c17e29"
      },
      "execution_count": 24,
      "outputs": [
        {
          "output_type": "execute_result",
          "data": {
            "text/plain": [
              "array([[ 1.  ,  0.  ,  0.  ,  1.  ,  0.  ,  1.  ,  0.  ,  0.  ,  1.  ,\n",
              "         0.  ,  1.  ,  0.  ,  0.  , 29.85,  0.  ,  1.  ,  0.  ,  0.  ,\n",
              "         0.  ,  1.  ,  1.  ,  0.  ,  0.  ,  0.  ,  1.  ,  0.  ,  1.  ,\n",
              "         0.  ,  0.  ,  1.  ,  0.  ,  1.  ,  0.  ,  0.  ,  1.  ,  0.  ,\n",
              "         0.  ,  1.  ,  0.  ,  0.  ,  1.  ,  0.  ,  0.  ,  1.  , 29.85]])"
            ]
          },
          "metadata": {},
          "execution_count": 24
        }
      ]
    },
    {
      "cell_type": "code",
      "source": [
        "model.predict_proba(X)"
      ],
      "metadata": {
        "colab": {
          "base_uri": "https://localhost:8080/"
        },
        "id": "BAnVMKCzi_xq",
        "outputId": "ed9ac413-fd2c-4047-c71a-edc6f5f41b8a"
      },
      "execution_count": 25,
      "outputs": [
        {
          "output_type": "execute_result",
          "data": {
            "text/plain": [
              "array([[0.36364158, 0.63635842]])"
            ]
          },
          "metadata": {},
          "execution_count": 25
        }
      ]
    },
    {
      "cell_type": "code",
      "source": [
        "model.predict_proba(X)[0,1]"
      ],
      "metadata": {
        "colab": {
          "base_uri": "https://localhost:8080/"
        },
        "id": "nNONX5kkjGsx",
        "outputId": "336d182e-1c4d-4506-bf8a-7a8bacd2b7a2"
      },
      "execution_count": 27,
      "outputs": [
        {
          "output_type": "execute_result",
          "data": {
            "text/plain": [
              "0.636358415272119"
            ]
          },
          "metadata": {},
          "execution_count": 27
        }
      ]
    },
    {
      "cell_type": "code",
      "source": [],
      "metadata": {
        "id": "Mdxuvh-3jO9B"
      },
      "execution_count": null,
      "outputs": []
    }
  ]
}